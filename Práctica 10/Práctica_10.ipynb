{
  "nbformat": 4,
  "nbformat_minor": 0,
  "metadata": {
    "colab": {
      "provenance": []
    },
    "kernelspec": {
      "name": "python3",
      "display_name": "Python 3"
    },
    "language_info": {
      "name": "python"
    }
  },
  "cells": [
    {
      "cell_type": "code",
      "execution_count": 17,
      "metadata": {
        "colab": {
          "base_uri": "https://localhost:8080/"
        },
        "id": "UfENKVbc4lQI",
        "outputId": "9f99f586-f882-4cb6-af72-d2d0e68e31a0"
      },
      "outputs": [
        {
          "output_type": "stream",
          "name": "stdout",
          "text": [
            "Prueba con datos de entrenamiento para la compuerta lógica AND:\n",
            "Entrada: [0 0], Predicción: 0\n",
            "Entrada: [0 1], Predicción: 0\n",
            "Entrada: [1 0], Predicción: 0\n",
            "Entrada: [1 1], Predicción: 1\n",
            "Exactitud del Modelo en los Datos de Prueba: 100.00%\n",
            "\n",
            "\n",
            "Prueba con datos de entrenamiento para la compuerta lógica OR:\n",
            "Entrada: [0 0], Predicción: 0\n",
            "Entrada: [0 1], Predicción: 1\n",
            "Entrada: [1 0], Predicción: 1\n",
            "Entrada: [1 1], Predicción: 1\n",
            "Exactitud en los datos de prueba para la compuerta lógica OR: 100.00%\n"
          ]
        }
      ],
      "source": [
        "import numpy as np\n",
        "\n",
        "class MyPerceptron:\n",
        "    def __init__(self, num_inputs):\n",
        "        self.weights = np.random.rand(num_inputs)\n",
        "        self.bias = 1\n",
        "        self.learning_rate = 0.01\n",
        "\n",
        "    def activation(self, x):\n",
        "        return 1 / (1 + np.exp(-x))\n",
        "\n",
        "    def make_prediction(self, inputs):\n",
        "        activation_level = np.dot(self.weights, inputs) + self.bias\n",
        "        prediction = self.activation(activation_level)\n",
        "        return 1 if prediction >= 0.5 else 0\n",
        "\n",
        "    def train_neuron(self, inputs, targets, epochs):\n",
        "        for epoch in range(epochs):\n",
        "            # Actualizar ponderaciones y sesgos según el error de predicción para cada entrada\n",
        "            for i in range(len(inputs)):\n",
        "                prediction = self.make_prediction(inputs[i])\n",
        "                error = targets[i] - prediction\n",
        "                self.weights += self.learning_rate * error * inputs[i]\n",
        "                self.bias += self.learning_rate * error\n",
        "\n",
        "    def assess_accuracy(self, inputs, targets):\n",
        "        correct_predictions = sum(1 for i in range(len(inputs)) if self.make_prediction(inputs[i]) == targets[i])\n",
        "        accuracy = correct_predictions / len(inputs)\n",
        "        return accuracy\n",
        "\n",
        "\n",
        "num_inputs = 2\n",
        "num_epochs = 100\n",
        "neuron = MyPerceptron(num_inputs)\n",
        "\n",
        "\n",
        "##################### Entrenamiento para la Compuerta Lógica AND #####################\n",
        "\n",
        "input_data = np.array([[0, 0], [0, 1], [1, 0], [1, 1]])\n",
        "output_targets = np.array([0, 0, 0, 1])\n",
        "\n",
        "num_inputs = 2\n",
        "num_epochs = 100\n",
        "\n",
        "# Entrenamiento del Perceptrón\n",
        "my_perceptron = MyPerceptron(num_inputs)\n",
        "my_perceptron.train_neuron(input_data, output_targets, num_epochs)\n",
        "\n",
        "# Prueba del perceptrón entrenado\n",
        "print(\"Prueba con datos de entrenamiento para la compuerta lógica AND:\")\n",
        "for i in range(len(input_data)):\n",
        "    prediction = my_perceptron.make_prediction(input_data[i])\n",
        "    print(f'Entrada: {input_data[i]}, Predicción: {prediction}')\n",
        "\n",
        "# Calcular la exactitud en los datos de prueba\n",
        "accuracy = my_perceptron.assess_accuracy(input_data, output_targets)\n",
        "\n",
        "print(f'Exactitud del Modelo en los Datos de Prueba: {accuracy * 100:.2f}%')\n",
        "\n",
        "##################### Entrenamiento para la Compuerta Lógica AND #####################\n",
        "\n",
        "\n",
        "##################### Entrenamiento para la Compuerta Lógica OR #####################\n",
        "\n",
        "inputs_or = np.array([[0, 0], [0, 1], [1, 0], [1, 1]])\n",
        "targets_or = np.array([0, 1, 1, 1])\n",
        "epochs_or = 100\n",
        "input_size_or = 2\n",
        "\n",
        "perceptron_or = MyPerceptron(input_size_or)\n",
        "perceptron_or.train_neuron(inputs_or, targets_or, epochs_or)\n",
        "\n",
        "# Prueba del perceptrón entrenado con datos de entrenamiento\n",
        "print(\"\\n\")\n",
        "print(\"Prueba con datos de entrenamiento para la compuerta lógica OR:\")\n",
        "for i in range(len(inputs_or)):\n",
        "    prediction = perceptron_or.make_prediction(inputs_or[i])\n",
        "    print(f'Entrada: {inputs_or[i]}, Predicción: {prediction}')\n",
        "\n",
        "# Calcular la exactitud en los datos de prueba\n",
        "accuracy_or = perceptron_or.assess_accuracy(inputs_or, targets_or)\n",
        "print(f'Exactitud en los datos de prueba para la compuerta lógica OR: {accuracy_or * 100:.2f}%')\n",
        "\n",
        "##################### Entrenamiento para la Compuerta Lógica OR #####################\n"
      ]
    }
  ]
}