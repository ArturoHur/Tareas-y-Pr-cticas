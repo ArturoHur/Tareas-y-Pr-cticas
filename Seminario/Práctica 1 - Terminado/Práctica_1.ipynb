{
  "nbformat": 4,
  "nbformat_minor": 0,
  "metadata": {
    "colab": {
      "provenance": []
    },
    "kernelspec": {
      "name": "python3",
      "display_name": "Python 3"
    },
    "language_info": {
      "name": "python"
    }
  },
  "cells": [
    {
      "cell_type": "markdown",
      "source": [
        "Inicializacion"
      ],
      "metadata": {
        "id": "d08jmfvGa3lx"
      }
    },
    {
      "cell_type": "code",
      "execution_count": 201,
      "metadata": {
        "id": "4txDbvgQYgLC"
      },
      "outputs": [],
      "source": [
        "import numpy as np\n",
        "\n",
        "limite_inferior=-10\n",
        "limite_superior=10\n",
        "\n",
        "poblacion=10 #tambien llamadas soluciones del espacio de busqueda\n",
        "dimensiones=2\n",
        "rango=limite_superior-limite_inferior\n",
        "F =  0.4 #Factor de mutación\n",
        "cr = 0.2 #Probabilidad de cruzamiento\n",
        "max_iters = 25 #Numero maximo de iteraciones\n",
        "\n",
        "fitness = np.zeros([10,])  #Para guardar fitness\n",
        "u = np.zeros([dimensiones,]) #Para calcular vector cruzado\n",
        "\n",
        "#Inicializacion\n",
        "x=rango*np.random.rand(poblacion,dimensiones)+limite_inferior"
      ]
    },
    {
      "cell_type": "code",
      "source": [
        "#Función objetivo\n",
        "###Cambiar función a su funcion correspondiente\n",
        "def ackley(X):\n",
        "    d = X.size\n",
        "    c= 2*np.pi\n",
        "    b = 0.2\n",
        "    a = 20\n",
        "\n",
        "    sum1 = 0\n",
        "    sum2 = 0\n",
        "\n",
        "    for i in range(d):\n",
        "        xi = X[i]\n",
        "        sum1 = sum1 + xi **2\n",
        "        sum2 = sum2 + np.cos(c*xi)\n",
        "\n",
        "    term1 = -a * np.exp(-b * np.sqrt(sum1/d))\n",
        "    term2 = -np.exp(sum2 / d)\n",
        "\n",
        "    y = term1 + term2 + a + np.exp(1)\n",
        "    return y"
      ],
      "metadata": {
        "id": "SldNXXLgSDk4"
      },
      "execution_count": 172,
      "outputs": []
    },
    {
      "cell_type": "code",
      "source": [
        "#Función objetivo\n",
        "# Función Levy N. 13\n",
        "def levy(X):\n",
        "    x1, x2 = X[0], X[1]\n",
        "    term1 = np.sin(3 * np.pi * x1)**2\n",
        "    term2 = (x1 - 1)**2 * (1 + np.sin(3 * np.pi * x2)**2)\n",
        "    term3 = (x2 - 1)**2 * (1 + np.sin(2 * np.pi * x2)**2)\n",
        "    return term1 + term2 + term3\n"
      ],
      "metadata": {
        "id": "yqpicluZjLZ2"
      },
      "execution_count": 202,
      "outputs": []
    },
    {
      "cell_type": "code",
      "source": [
        "#Evaluación inicial\n",
        "for solucion in range(poblacion):\n",
        "    fitness[solucion] = levy(x[solucion,:])"
      ],
      "metadata": {
        "id": "3-OZGitXuz6v"
      },
      "execution_count": 203,
      "outputs": []
    },
    {
      "cell_type": "markdown",
      "source": [
        "Proceso iterativo"
      ],
      "metadata": {
        "id": "DO3BjNrLi6sQ"
      }
    },
    {
      "cell_type": "code",
      "source": [
        "#### Lista para almacenar el mejor fitness de cada iteración ####\n",
        "best_fitness_per_iteration = []\n",
        "\n",
        "# Declaración de la variable para almacenar la mejor solución y su fitness\n",
        "best_solution = None\n",
        "best_fitness = float('inf')  # Inicializamos con un valor alto para asegurar el reemplazo\n",
        "\n",
        "for i in range(max_iters):\n",
        "\n",
        "    for p in range(poblacion):\n",
        "        fitness[p] = levy(x[p, :])\n",
        "\n",
        "        # Actualización de la mejor solución encontrada\n",
        "        if fitness[p] < best_fitness:\n",
        "            best_fitness = fitness[p]\n",
        "            best_solution = x[p, :].copy()  # Guardamos una copia de la mejor solución encontrada\n",
        "\n",
        "        #Mutacion\n",
        "        indices = np.random.permutation(poblacion)\n",
        "        xr = np.zeros([3,dimensiones])\n",
        "        for i in range (3):\n",
        "            xr[i,:] = x[indices[i],:]\n",
        "\n",
        "        v = xr[0,:]+F*(xr[1,:]-xr[2,:])\n",
        "\n",
        "        #cruzamiento Alejandro (si no vienen reprueban)\n",
        "        for j in range (dimensiones):\n",
        "            j0 = np.random.randint(2)\n",
        "            r = np.random.rand()\n",
        "\n",
        "            if j0 == j or r<=cr:\n",
        "                u[j] = v[j]\n",
        "            else:\n",
        "                u[j] = x[p,j]\n",
        "\n",
        "        fu = levy (u)\n",
        "\n",
        "        #Seleccion Israel (si no vienen reprueban)\n",
        "        if fu < fitness[p]:\n",
        "            x[p,:] = u\n",
        "            fitness[p] = fu\n",
        "\n",
        "    # Obtener el mejor fitness de esta iteración y almacenarlo\n",
        "    best_fitness = np.min(fitness)\n",
        "    best_fitness_per_iteration.append(best_fitness)\n",
        "\n",
        "    #tomar el minimo de fitness y guardarlo en un arreglo best_fitness\n",
        "    #guardar la posicion de la mejor solucion"
      ],
      "metadata": {
        "id": "QXwkqAb1d-uH"
      },
      "execution_count": 204,
      "outputs": []
    },
    {
      "cell_type": "markdown",
      "source": [
        "Tarea: graficar el mejor fitness de cada iteracion"
      ],
      "metadata": {
        "id": "xxtcGT6h2Ibl"
      }
    },
    {
      "cell_type": "code",
      "source": [
        "import matplotlib.pyplot as plt\n",
        "\n",
        "# Imprimir la mejor solución y su fitness al finalizar\n",
        "print(\"Mejor solución encontrada:\", best_solution)\n",
        "print(\"Fitness de la mejor solución:\", best_fitness)\n",
        "\n",
        "# Graficar la convergencia (mejor fitness por iteración)\n",
        "plt.figure()\n",
        "plt.plot(best_fitness_per_iteration, label='Mejor fitness por iteración')\n",
        "plt.xlabel('Iteración')\n",
        "plt.ylabel('Fitness')\n",
        "plt.title('Convergencia del Algoritmo Genético')\n",
        "plt.legend()\n",
        "plt.grid(True)\n",
        "plt.show()"
      ],
      "metadata": {
        "colab": {
          "base_uri": "https://localhost:8080/",
          "height": 507
        },
        "id": "LJP1PPpZN7Go",
        "outputId": "24a869f3-75a5-4bd7-a3ee-1242d5f86af1"
      },
      "execution_count": 205,
      "outputs": [
        {
          "output_type": "stream",
          "name": "stdout",
          "text": [
            "Mejor solución encontrada: [ 3.22675682 -1.64970797]\n",
            "Fitness de la mejor solución: 0.025888203259727675\n"
          ]
        },
        {
          "output_type": "display_data",
          "data": {
            "text/plain": [
              "<Figure size 640x480 with 1 Axes>"
            ],
            "image/png": "[encoded data removed]"
          },
          "metadata": {}
        }
      ]
    }
  ]
}